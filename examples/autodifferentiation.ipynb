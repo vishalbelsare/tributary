{
 "cells": [
  {
   "cell_type": "code",
   "execution_count": 1,
   "metadata": {},
   "outputs": [],
   "source": [
    "# Lazy\n",
    "import tributary.lazy as tl\n",
    "\n",
    "\n",
    "# f = 3x^2 + 2x\n",
    "# f' = 6x + 2\n",
    "x1 = tl.Node(value=(5,1), use_dual=True)\n",
    "x2 = tl.Node(value=(6,1), use_dual=True)\n",
    "x3 = tl.Node(value=(7,1), use_dual=True)\n",
    "\n",
    "out1 = tl.Add(tl.Mult(tl.Pow(x1, 2), (3,0)), tl.Mult(x1, (2,0)))\n",
    "out2 = tl.Add(tl.Mult(tl.Pow(x2, 2), (3,0)), tl.Mult(x2, (2,0)))\n",
    "out3 = tl.Add(tl.Mult(tl.Pow(x3, 2), (3,0)), tl.Mult(x3, (2,0)))\n",
    "\n",
    "assert [out1()[1], out2()[1], out3()[1]] == [6*x+2 for x in [5, 6, 7]]\n"
   ]
  },
  {
   "cell_type": "code",
   "execution_count": 2,
   "metadata": {},
   "outputs": [],
   "source": [
    "# Streaming\n",
    "import asyncio\n",
    "import tributary.streaming as ts\n",
    "import math\n",
    "\n",
    "# f = sin(x) + x^2\n",
    "# f' = cos(x) + 2x\n",
    "\n",
    "rng = range(-10,11)\n",
    "def func():\n",
    "    for _ in rng:\n",
    "        yield(_,1)\n",
    "\n",
    "x = ts.Timer(func, count=len(rng), use_dual=True)\n",
    "out = ts.Add(ts.Sin(x), ts.Pow(x,2))\n",
    "result = ts.run(out)\n",
    "\n",
    "while not result.done():\n",
    "    await asyncio.sleep(1)\n",
    "\n",
    "assert [x[1] for x in result.result()] == [math.cos(_) + 2*_ for _ in rng]\n"
   ]
  }
 ],
 "metadata": {
  "kernelspec": {
   "display_name": "Python 3",
   "language": "python",
   "name": "python3"
  },
  "language_info": {
   "codemirror_mode": {
    "name": "ipython",
    "version": 3
   },
   "file_extension": ".py",
   "mimetype": "text/x-python",
   "name": "python",
   "nbconvert_exporter": "python",
   "pygments_lexer": "ipython3",
   "version": "3.7.7"
  },
  "widgets": {
   "application/vnd.jupyter.widget-state+json": {
    "state": {},
    "version_major": 2,
    "version_minor": 0
   }
  }
 },
 "nbformat": 4,
 "nbformat_minor": 4
}

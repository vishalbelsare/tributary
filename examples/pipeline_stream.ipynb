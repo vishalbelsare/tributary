{
 "cells": [
  {
   "cell_type": "code",
   "execution_count": 1,
   "metadata": {},
   "outputs": [],
   "source": [
    "import tributary as t\n",
    "from perspective import PerspectiveWidget"
   ]
  },
  {
   "cell_type": "code",
   "execution_count": 2,
   "metadata": {},
   "outputs": [],
   "source": [
    "import random\n",
    "import time\n",
    "def func1(on_data):\n",
    "    x = 0\n",
    "    while x < 100:\n",
    "        on_data({'a': random.random(), 'b': random.randint(0,1000), 'x':x})\n",
    "        time.sleep(.1)\n",
    "        x = x+1\n",
    "        \n",
    "def func2(data, callback):\n",
    "    callback([{'a':data['a'] *1000, 'b': data['b'], 'c': 'AAPL', 'x': data['x']}])\n",
    "    "
   ]
  },
  {
   "cell_type": "code",
   "execution_count": 8,
   "metadata": {},
   "outputs": [
    {
     "data": {
      "application/vnd.jupyter.widget-view+json": {
       "model_id": "04ad31df5970405499ccac3d46eeaa45",
       "version_major": 2,
       "version_minor": 0
      },
      "text/plain": [
       "PerspectiveWidget(column_pivots=['c'], columns=['a', 'b'], plugin='y_line', row_pivots=['x'])"
      ]
     },
     "metadata": {},
     "output_type": "display_data"
    }
   ],
   "source": [
    "p = PerspectiveWidget({\"a\": float, \"b\": float, \"c\": str, \"x\": float}, plugin='y_line', columns=['a', 'b'], row_pivots=['x'], column_pivots=['c'])\n",
    "p"
   ]
  },
  {
   "cell_type": "code",
   "execution_count": 9,
   "metadata": {},
   "outputs": [],
   "source": [
    "t.pipeline([func1, func2], ['on_data', 'callback'], on_data=p.update)"
   ]
  },
  {
   "cell_type": "code",
   "execution_count": 6,
   "metadata": {},
   "outputs": [],
   "source": [
    "t.stop()"
   ]
  },
  {
   "cell_type": "code",
   "execution_count": null,
   "metadata": {},
   "outputs": [],
   "source": []
  }
 ],
 "metadata": {
  "kernelspec": {
   "display_name": "Python 3",
   "language": "python",
   "name": "python3"
  },
  "language_info": {
   "codemirror_mode": {
    "name": "ipython",
    "version": 3
   },
   "file_extension": ".py",
   "mimetype": "text/x-python",
   "name": "python",
   "nbconvert_exporter": "python",
   "pygments_lexer": "ipython3",
   "version": "3.7.5"
  }
 },
 "nbformat": 4,
 "nbformat_minor": 4
}

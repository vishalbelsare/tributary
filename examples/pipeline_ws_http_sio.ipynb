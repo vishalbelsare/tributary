{
 "cells": [
  {
   "cell_type": "code",
   "execution_count": 1,
   "metadata": {},
   "outputs": [],
   "source": [
    "import tributary as t\n",
    "from perspective import PerspectiveWidget"
   ]
  },
  {
   "cell_type": "code",
   "execution_count": 2,
   "metadata": {},
   "outputs": [],
   "source": [
    "import tributary.functional as tp"
   ]
  },
  {
   "cell_type": "code",
   "execution_count": 3,
   "metadata": {},
   "outputs": [],
   "source": [
    "func = tp.wrap(tp.ws, url='wss://ws.paine.nyc', wrap=True, json=True)"
   ]
  },
  {
   "cell_type": "code",
   "execution_count": 8,
   "metadata": {},
   "outputs": [
    {
     "data": {
      "application/vnd.jupyter.widget-view+json": {
       "model_id": "b02b3aa4cc254e45a3e3750f87445697",
       "version_major": 2,
       "version_minor": 0
      },
      "text/plain": [
       "PerspectiveWidget(columns=['A', 'B', 'C', 'D'], plugin='y_line')"
      ]
     },
     "metadata": {},
     "output_type": "display_data"
    }
   ],
   "source": [
    "p = PerspectiveWidget({\"A\": float, \"B\": float, \"C\": float, \"D\": float}, plugin='y_line')\n",
    "p"
   ]
  },
  {
   "cell_type": "code",
   "execution_count": 9,
   "metadata": {},
   "outputs": [],
   "source": [
    "t.pipeline([func], ['callback'], on_data=p.update)"
   ]
  },
  {
   "cell_type": "code",
   "execution_count": 10,
   "metadata": {},
   "outputs": [],
   "source": [
    "t.stop()"
   ]
  },
  {
   "cell_type": "code",
   "execution_count": 12,
   "metadata": {},
   "outputs": [
    {
     "data": {
      "application/vnd.jupyter.widget-view+json": {
       "model_id": "cfc1d8ec52c84799bd233cc20ca74e36",
       "version_major": 2,
       "version_minor": 0
      },
      "text/plain": [
       "PerspectiveWidget(columns=['longitude', 'latitude', 'availableBikes'], plugin='xy_scatter')"
      ]
     },
     "metadata": {},
     "output_type": "display_data"
    }
   ],
   "source": [
    "http = tp.wrap(tp.http, url='https://unpkg.com/@jpmorganchase/perspective-examples@0.1.18/build/citibike.json', json=True, field='stationBeanList')\n",
    "psp = PerspectiveWidget({\"id\":int,\n",
    "                                  \"stationName\": str,\n",
    "                                  \"availableDocks\": int,\n",
    "                                  \"totalDocks\": int,\n",
    "                                  \"latitude\": float,\n",
    "                                  \"longitude\": float,\n",
    "                                  \"statusValue\": str,\n",
    "                                  \"statusKey\":int,\n",
    "                                  \"availableBikes\":int,\n",
    "                                  \"stAddress1\": str,\n",
    "                                  \"stAddress2\": str,\n",
    "                                  \"city\": str,\n",
    "                                  \"postalCode\": str,\n",
    "                                  \"location\": str,\n",
    "                                  \"altitude\": str,\n",
    "                                  \"testStation\": bool,\n",
    "                                  \"lastCommunicationTime\": \"datetime\",\n",
    "                                  \"landMark\": str}, plugin='xy_scatter', columns=['longitude', 'latitude', 'availableBikes'])\n",
    "psp"
   ]
  },
  {
   "cell_type": "code",
   "execution_count": 13,
   "metadata": {},
   "outputs": [],
   "source": [
    "t.pipeline([http], ['callback'], on_data=psp.update)"
   ]
  },
  {
   "cell_type": "code",
   "execution_count": null,
   "metadata": {},
   "outputs": [],
   "source": []
  }
 ],
 "metadata": {
  "kernelspec": {
   "display_name": "Python 3",
   "language": "python",
   "name": "python3"
  },
  "language_info": {
   "codemirror_mode": {
    "name": "ipython",
    "version": 3
   },
   "file_extension": ".py",
   "mimetype": "text/x-python",
   "name": "python",
   "nbconvert_exporter": "python",
   "pygments_lexer": "ipython3",
   "version": "3.7.5"
  }
 },
 "nbformat": 4,
 "nbformat_minor": 4
}

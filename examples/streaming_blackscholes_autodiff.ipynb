{
 "cells": [
  {
   "cell_type": "markdown",
   "metadata": {},
   "source": [
    "# Black-Scholes Autodifferentiation Example\n",
    "In this example we are calculating $\\theta$ values using the Black-Scholes model."
   ]
  },
  {
   "cell_type": "code",
   "execution_count": 19,
   "metadata": {},
   "outputs": [],
   "source": [
    "# Imports & Constants\n",
    "import tributary.streaming as ts\n",
    "import math\n",
    "import matplotlib.pyplot as plt\n",
    "import asyncio\n",
    "TRADING_DAYS = 252"
   ]
  },
  {
   "cell_type": "markdown",
   "metadata": {},
   "source": [
    "## We can use the tributary $\\textit{Erf}$ operator to define a Standard Normal CDF\n",
    "The CDF is defined using $\\Phi(x, \\mu, \\sigma) = \\frac{1}{2}\\left(1 + Erf\\left(\\frac{x-\\mu}{\\sigma\\sqrt{2}}\\right)\\right)$ for $\\mu = 0, \\sigma = 1$"
   ]
  },
  {
   "cell_type": "code",
   "execution_count": 20,
   "metadata": {},
   "outputs": [],
   "source": [
    "def normal_cdf(x):\n",
    "    return ((ts.Erf(x / ts.Const((math.sqrt(2),0), use_dual=True)) + ts.Const((1,0), use_dual=True))\n",
    "            / ts.Const((2,0), use_dual=True))"
   ]
  },
  {
   "cell_type": "markdown",
   "metadata": {},
   "source": [
    "## Now we can define our streams\n",
    "For this example we are going use a Call Option.\n",
    "We define the model as follows:\n",
    "\n",
    "$C_p = S\\Phi(d_1) - Xe^{-rt}\\Phi(d_2)$\n",
    "\n",
    "$d_1 = \\frac{ln\\left(\\frac{S}{X}\\right) + \\left(r + \\frac{\\sigma^2}{2}\\right)t}{\\sigma\\sqrt{t}}$\n",
    "\n",
    "$d_2 = d_1 - \\sigma\\sqrt{t}$\n",
    "\n",
    "Where\n",
    "\n",
    "$C_p$ - Price of Call Option\n",
    "\n",
    "$S$ - Stock Price\n",
    "\n",
    "$X$ - Strike Price\n",
    "\n",
    "$r$ - Risk Free Interest Rate\n",
    "\n",
    "$\\sigma$ - Stock Price Volatility\n",
    "\n",
    "$t$ - Time to Maturity\n",
    "\n",
    "$\\Phi$ - Standard Normal CDF (defined above)"
   ]
  },
  {
   "cell_type": "markdown",
   "metadata": {},
   "source": [
    "### Streaming Graph"
   ]
  },
  {
   "cell_type": "code",
   "execution_count": 22,
   "metadata": {},
   "outputs": [],
   "source": [
    "def _time():\n",
    "    for _ in [1, 2, 3, 4, 5, 6, 7]:\n",
    "        yield (_, 1)\n",
    "\n",
    "strike_price = ts.Const((203,0), use_dual=True)\n",
    "stock_price = ts.Const((210,0), use_dual=True)\n",
    "r = ts.Const((0.2175, 0), use_dual=True)\n",
    "time = ts.Div(\n",
    "              ts.Node(func=_time, name='Time', use_dual=True), \n",
    "              ts.Const((TRADING_DAYS,0), use_dual=True)\n",
    "        )\n",
    "vol = ts.Const((14.04, 0), use_dual=True)\n",
    "   \n",
    "\n",
    "d1 = (((ts.Log(stock_price / strike_price) + time * (r + vol**2 / ts.Const((2,0), use_dual=True)))\n",
    "       / vol*ts.Sqrt(time)))\n",
    "\n",
    "d2 = d1 - vol*ts.Sqrt(time)\n",
    "\n",
    "opt_price_streaming = stock_price * normal_cdf(d1) - strike_price * ts.Exp(ts.Negate(r * time)) * normal_cdf(d2)"
   ]
  },
  {
   "cell_type": "code",
   "execution_count": 23,
   "metadata": {},
   "outputs": [],
   "source": [
    "# Run It\n",
    "out_streaming = ts.run(opt_price_streaming)\n",
    "while not out_streaming.done():\n",
    "    await asyncio.sleep(1)"
   ]
  },
  {
   "cell_type": "markdown",
   "metadata": {},
   "source": [
    "## Let's do some plots"
   ]
  },
  {
   "cell_type": "code",
   "execution_count": 24,
   "metadata": {},
   "outputs": [
    {
     "data": {
      "image/png": "[encoded data removed]",
      "text/plain": [
       "<Figure size 432x288 with 1 Axes>"
      ]
     },
     "metadata": {
      "needs_background": "light"
     },
     "output_type": "display_data"
    }
   ],
   "source": [
    "thetas = [x[1] for x in out_streaming.result()]\n",
    "plt.plot([x[0] for x in _time()], thetas)\n",
    "plt.xlabel('Time to Maturity')\n",
    "plt.ylabel('Theta Values')\n",
    "plt.gca().invert_xaxis()"
   ]
  },
  {
   "cell_type": "code",
   "execution_count": 25,
   "metadata": {},
   "outputs": [
    {
     "data": {
      "image/png": "[encoded data removed]",
      "text/plain": [
       "<Figure size 432x288 with 1 Axes>"
      ]
     },
     "metadata": {
      "needs_background": "light"
     },
     "output_type": "display_data"
    }
   ],
   "source": [
    "option_value = [x[0] for x in out_streaming.result()]\n",
    "plt.plot([x[0] for x in _time()], option_value)\n",
    "plt.xlabel('Time to Maturity')\n",
    "plt.ylabel('Option Value')\n",
    "plt.gca().invert_xaxis()"
   ]
  },
  {
   "cell_type": "code",
   "execution_count": null,
   "metadata": {},
   "outputs": [],
   "source": []
  }
 ],
 "metadata": {
  "kernelspec": {
   "display_name": "Python 3",
   "language": "python",
   "name": "python3"
  },
  "language_info": {
   "codemirror_mode": {
    "name": "ipython",
    "version": 3
   },
   "file_extension": ".py",
   "mimetype": "text/x-python",
   "name": "python",
   "nbconvert_exporter": "python",
   "pygments_lexer": "ipython3",
   "version": "3.7.5"
  }
 },
 "nbformat": 4,
 "nbformat_minor": 2
}
